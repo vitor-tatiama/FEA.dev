{
 "cells": [
  {
   "cell_type": "markdown",
   "metadata": {},
   "source": [
    "## Case de IA - Customer churn\n",
    "\n",
    "<p align='center'>\n",
    "    <img src='https://www.questionpro.com/blog/wp-content/uploads/2018/03/churn.png'>\n",
    "</p>\n",
    "\n",
    "Neste case básico de IA, vamos analisar um dataset de churn de clientes de uma empresa de telecomunicações. O objetivo é criar um modelo de Machine Learning que seja capaz de prever se um cliente irá ou não cancelar seu plano.\n",
    "\n",
    "\n",
    "O objetivo é que você tenha seu primeiro contato com um problema de Machine Learning, que você consiga entender como é mais ou menos o fluxo de trabalho e, principalmente, vá aprendendo os principais conceitos conforme for realizando.\n",
    "\n",
    "\n",
    "Ao longo do case passaremos por tópicos como:\n",
    "\n",
    "1. Visualização, análise e tratamento de dados\n",
    "2. Split dos dados em treino e teste\n",
    "3. Padronização dos dados\n",
    "4. Criação de um modelo de Machine Learning\n",
    "5. Avaliação do modelo\n",
    "6. Otimização dos hiperparâmetros do modelo\n",
    "\n",
    "\n",
    "## Referências gerais:\n",
    "- https://www.datacamp.com/tutorial/introduction-machine-learning-python\n",
    "- https://app.datacamp.com/learn/courses/machine-learning-with-scikit-learn (Capítulos 1 e 3)\n",
    "- Livro: Introduction to Machine Learning with Python (Capítulo 2) - https://drive.google.com/drive/u/1/folders/10VdWCaR7qZ40K9rC5gWviKWMkMPzK8FB\n",
    "\n",
    "Mais referências ao longo do case"
   ]
  },
  {
   "cell_type": "markdown",
   "metadata": {},
   "source": [
    "### 0 - Antes de tudo...\n",
    "\n",
    "Existem muitas formas de se resolver um problema de Machine Learning, no entanto, o **workflow** a ser seguido geralmente segue essa estrutura:\n",
    "<p align='center'>\n",
    "    <img src='https://editor.analyticsvidhya.com/uploads/80329Roadmap.PNG'>\n",
    "</p>"
   ]
  },
  {
   "cell_type": "markdown",
   "metadata": {},
   "source": [
    "Assim, comece importando as bibliotecas básicas, e carregando o dataset."
   ]
  },
  {
   "cell_type": "code",
   "execution_count": null,
   "metadata": {},
   "outputs": [],
   "source": []
  },
  {
   "cell_type": "code",
   "execution_count": null,
   "metadata": {},
   "outputs": [],
   "source": [
    "import pandas as pd\n",
    "import numpy as np\n",
    "import matplotlib.pyplot as plt\n",
    "import seaborn as sns\n",
    "import plotly.express as px\n",
    "from sklearn.preprocessing import StandardScaler\n",
    "from sklearn import preprocessing"
   ]
  },
  {
   "cell_type": "code",
   "execution_count": null,
   "metadata": {},
   "outputs": [],
   "source": [
    "df = pd.read_csv(\"Churn_train.csv\", sep = \",\", index_col=0)\n",
    "df.head()"
   ]
  },
  {
   "attachments": {},
   "cell_type": "markdown",
   "metadata": {},
   "source": [
    "### 1 - Data Prep\n",
    "\n",
    "Provavelmente, a etapa mais importante do processo. É a etapa de entendimento do problema a ser resolvido, entendimento dos dados que você possui e, principalmente, tratamento desses dados para poder extrair o máximo de informação possível.\n",
    "\n",
    "Veja aqui algumas referências para um bom Data Prep:\n",
    "- https://www.analyticsvidhya.com/blog/2021/08/how-to-perform-exploratory-data-analysis-a-guide-for-beginners/\n",
    "- https://towardsdatascience.com/an-extensive-guide-to-exploratory-data-analysis-ddd99a03199e"
   ]
  },
  {
   "cell_type": "markdown",
   "metadata": {},
   "source": [
    "O objetivo aqui é verficar se os dados estão certinhos para serem utilizados em modelos. Assim,\n",
    "\n",
    "- Verifique o tipo das variáveis (existem números como strings, por exemplo?)  \n",
    "- Verifique se há valores nulos\n",
    "- Verifique se há valores duplicados\n",
    "- Verifique a presença de outliers (aqui pode ser bem útil plotar gráficos de distribuição das variáveis)\n",
    "- Qual coluna é a variável *target* (aquilo que queremos prever)?\n",
    "- Quais features são necessárias e quais não são?"
   ]
  },
  {
   "cell_type": "code",
   "execution_count": null,
   "metadata": {},
   "outputs": [],
   "source": [
    "df.dtypes"
   ]
  },
  {
   "cell_type": "code",
   "execution_count": null,
   "metadata": {},
   "outputs": [],
   "source": [
    "df.isna().sum()"
   ]
  },
  {
   "cell_type": "code",
   "execution_count": null,
   "metadata": {},
   "outputs": [],
   "source": [
    "df = df.dropna()\n",
    "df.isna().sum()"
   ]
  },
  {
   "cell_type": "code",
   "execution_count": null,
   "metadata": {},
   "outputs": [],
   "source": [
    "df.duplicated().sum()"
   ]
  },
  {
   "cell_type": "markdown",
   "metadata": {},
   "source": [
    "### Outliers"
   ]
  },
  {
   "cell_type": "code",
   "execution_count": null,
   "metadata": {},
   "outputs": [],
   "source": [
    "colunas = [\"Age\",\"Tenure\",\"Usage Frequency \",\"Support Calls\",\"Payment Delay\",\"Total Spend\",\"Last Interaction\"]\n",
    "\n",
    "#Definindo cor e escala\n",
    "paleta = {\"Age\": \"r\",\"Tenure\" : \"orange\" ,\"Usage Frequency \" : \"y\",\"Support Calls\" : \"g\",\"Payment Delay\" : \"b\",\"Total Spend\" : \"indigo\",\"Last Interaction\" : \"violet\"}\n",
    "sns.set(style=\"darkgrid\")\n",
    "plt.figure(figsize=(35, 10))\n",
    "\n",
    "plt.subplot(1, 7, 1)\n",
    "sns.boxplot( y = df[\"Age\"], color = \"r\")\n",
    "plt.ylabel(\"Idade\")\n",
    "plt.title(\"Age\")\n",
    "\n",
    "plt.subplot(1, 7, 2)\n",
    "sns.boxplot( y = df[\"Tenure\"], color = \"orange\")\n",
    "plt.ylabel(\"Tenure\")\n",
    "plt.title(\"Tenure\")\n",
    "\n",
    "plt.subplot(1, 7, 3)\n",
    "sns.boxplot( y = df[\"Usage Frequency\"], color = \"y\")\n",
    "plt.ylabel(\"Frequência de Uso\")\n",
    "plt.title(\"Usage Frequency\")\n",
    "\n",
    "plt.subplot(1, 7, 4)\n",
    "sns.boxplot( y = df[\"Support Calls\"], color = \"g\")\n",
    "plt.ylabel(\"Chamadas de Suporte\")\n",
    "plt.title(\"Support Calls\")\n",
    "\n",
    "plt.subplot(1, 7, 5)\n",
    "sns.boxplot( y = df[\"Payment Delay\"], color = \"b\")\n",
    "plt.ylabel(\"Cobrança\")\n",
    "plt.title(\"Payment Delay\")\n",
    "\n",
    "plt.subplot(1, 7, 6)\n",
    "sns.boxplot( y = df[\"Total Spend\"], color = \"indigo\")\n",
    "plt.ylabel(\"Valor Gasto\")\n",
    "plt.title(\"Total Spend\")\n",
    "\n",
    "plt.subplot(1, 7, 7)\n",
    "sns.boxplot( y = df[\"Last Interaction\"], color = \"violet\")\n",
    "plt.ylabel(\"Tempo\")\n",
    "plt.title(\"Last Interaction\")\n",
    "\n",
    "plt.show()"
   ]
  },
  {
   "cell_type": "markdown",
   "metadata": {},
   "source": [
    "### Variavel Target\n",
    "\n",
    "Churn"
   ]
  },
  {
   "attachments": {
    "image.png": {
     "image/png": "[encoded data removed]"
    }
   },
   "cell_type": "markdown",
   "metadata": {},
   "source": [
    "### Encoding\n",
    "\n",
    "Muitos algoritmos não só conseguem trabalhar com dados numéricos. Assim, um tratamento necessário é a transformação de variáveis categóricas em numéricas. \n",
    "\n",
    "![image.png](attachment:image.png)\n",
    "\n",
    "São formas de encoding mais comuns:\n",
    "- Dummy encoding\n",
    "- One-hot encoding\n",
    "- Label encoding\n",
    "\n",
    "Dê uma pesquisada nesses métodos e veja qual a forma mais adequada para as variáveis categóricas"
   ]
  },
  {
   "cell_type": "code",
   "execution_count": null,
   "metadata": {},
   "outputs": [],
   "source": [
    "from sklearn import preprocessing\n",
    "\n",
    "le = preprocessing.LabelEncoder()\n",
    "\n",
    "df['Gender'] = le.fit_transform(df['Gender'])\n",
    "df['Subscription Type'] = le.fit_transform(df['Subscription Type'])\n",
    "df['Contract Length'] = le.fit_transform(df['Contract Length'])\n"
   ]
  },
  {
   "cell_type": "markdown",
   "metadata": {},
   "source": [
    "### Matriz de correlação\n",
    "Uma forma eficiênte de se ter uma ideia da relação entre as variáveis é saber como elas se correlacionam umas com as outras. Plote uma matriz de correlação e veja quais variáveis parecem mais correlacionadas com o target."
   ]
  },
  {
   "cell_type": "code",
   "execution_count": null,
   "metadata": {},
   "outputs": [],
   "source": [
    "df = df.copy()\n",
    "corrs = df.corr()\n",
    "sns.heatmap(corrs)\n",
    "plt.show()\n"
   ]
  },
  {
   "cell_type": "code",
   "execution_count": null,
   "metadata": {},
   "outputs": [],
   "source": [
    "df.corr()"
   ]
  },
  {
   "cell_type": "markdown",
   "metadata": {},
   "source": [
    "#### Bônus\n",
    "Uma coisa que vocês precisam saber é que, apesar de parecer muito difícil no começo, Machine Learning em python é uma mãe e sempre existe uma forma mais incrivelmente fácil de se fazer qualquer coisa.\n",
    "\n",
    "Depois de fazer toda a sua análise exploratória, teste o *pandas_profiling* e veja o que ele te retorna."
   ]
  },
  {
   "cell_type": "code",
   "execution_count": null,
   "metadata": {},
   "outputs": [],
   "source": [
    "#import pandas_profiling\n",
    "#pandas_profiling.ProfileReport(data)"
   ]
  },
  {
   "cell_type": "markdown",
   "metadata": {},
   "source": [
    "### Data split\n",
    "Para um algoritmo de Machine Learning funcionar, é necessário que ele primeiro aprenda com uma certa quantidade dos dados disponíveis a identificar padrões. A esse conjunto, chamamos de \"treino\".\n",
    "\n",
    "Após o treino, é necessário verficar como ele lida diante de novos dados. Esse conjunto com a outra parte dos dados, chamamos de \"teste\". Sendo assim, divida seu dataset em treino e teste."
   ]
  },
  {
   "cell_type": "code",
   "execution_count": null,
   "metadata": {},
   "outputs": [],
   "source": [
    "from sklearn.model_selection import train_test_split\n",
    "Y = df.loc[:,'Support Calls'].values\n",
    "X = df.drop(['Support Calls'], axis='columns').values\n",
    "X_train, X_test, Y_train, Y_test = train_test_split(X, Y, test_size = 0.01)"
   ]
  },
  {
   "cell_type": "markdown",
   "metadata": {},
   "source": [
    "### Scaling\n",
    "Último ponto dessa etapa. Veja que as variáveis possuem escalas diferentes. Enquanto algumas variáveis estão na casa das dezenas, outras estão na casa das centenas. Isso pode ser um problema para alguns algoritmos de Machine Learning, que podem acabar dando mais importância para as variáveis com maior escala. Transforme seus dados de modo com que fiquem na mesma escala"
   ]
  },
  {
   "cell_type": "code",
   "execution_count": null,
   "metadata": {},
   "outputs": [],
   "source": [
    "escala = StandardScaler()\n",
    "df = escala.fit_transform(df)\n",
    "print(df)"
   ]
  },
  {
   "cell_type": "markdown",
   "metadata": {},
   "source": [
    "### 2 - Criação do modelo\n",
    "\n",
    "Existem dois principais tipos de problemas de ML: regressão e classificação. Enquanto o primeiro se refere à previsão de valores numéricos, o segundo, como o nome já diz, se refere à classificação de valores em categorias.\n",
    "\n",
    "Para classificação, existem alguns algoritmos mais comuns que você pode tentar:\n",
    "Cursos:\n",
    "- [Supervised Learning with scikit-learn - DataCamp](https://app.datacamp.com/learn/courses/machine-learning-with-scikit-learn)\n",
    "- [Linear Classifiers in python - DataCamp](https://app.datacamp.com/learn/courses/linear-classifiers-in-python)\n",
    "\n",
    "Vídeos:\n",
    "- [Vídeo do Dev sobre Random Forest](https://www.youtube.com/watch?v=ho1eI54ykoU&pp=ygUHZmVhIGRldg%3D%3D)\n",
    "- [StatsQuest: LogisticRegression (teoria)](https://www.youtube.com/watch?v=yIYKR4sgzI8)\n",
    "- [StatsQuest: KNN (teoria)](https://www.youtube.com/watch?v=HVXime0nQeI&pp=ugMICgJwdBABGAE%3D)\n",
    "\n",
    "\n",
    "Escolha pelo menos dois modelos. Treine e teste com os dados que você separou anteriormente e gere as previsões"
   ]
  },
  {
   "cell_type": "code",
   "execution_count": null,
   "metadata": {},
   "outputs": [],
   "source": [
    "from sklearn.tree import DecisionTreeRegressor\n",
    "\n",
    "regressor = DecisionTreeRegressor()\n",
    "\n",
    "regressor.fit(X_train, Y_train)\n",
    "\n",
    "Y_pred = regressor.predict(X_test)\n",
    "\n",
    "df_teste = pd.DataFrame({'Real Values':Y_test, 'Predicted Values':Y_pred})"
   ]
  },
  {
   "cell_type": "code",
   "execution_count": null,
   "metadata": {},
   "outputs": [],
   "source": [
    "fig = px.line(df_teste, y=['Real Values', 'Predicted Values'])\n",
    "fig.show()\n",
    "\n",
    "df_diferença = df_teste['Real Values'] - df_teste['Predicted Values']\n",
    "\n",
    "fig = px.line(df_teste, y = df_diferença)\n",
    "fig.show()\n",
    "\n",
    "print(np.mean(df_diferença))\n",
    "\n"
   ]
  },
  {
   "cell_type": "markdown",
   "metadata": {},
   "source": [
    "### 3 - Avaliação do modelo\n",
    "\n",
    "Uma vez feitas as previsões, é preciso verificar o quão próximas da realidade elas foram. Para problemas de classificação, as métricas mais comuns de se utilizar são: acurácia, precisão e AUC. Você pode ter uma melhor visualização nesse cheat sheet:\n",
    "\n",
    "<p align='center'>\n",
    "    <img src='https://miro.medium.com/v2/resize:fit:828/format:webp/1*wEniP5HewaUSHeIF1_bEiw.png'>"
   ]
  },
  {
   "cell_type": "markdown",
   "metadata": {},
   "source": [
    "Para um entendimento mais profundo sobre cada uma das métricas, seguem também algumas referências:\n",
    "\n",
    "- [StatsQuest: ROC e AUC](https://www.youtube.com/watch?v=4jRBRDbJemM&list=PLblh5JKOoLUICTaGLRoHQDuF_7q2GfuJF&index=7)\n",
    "- [StatsQuest: Confusion Matrix](https://www.youtube.com/watch?v=Kdsp6soqA7o&list=PLblh5JKOoLUICTaGLRoHQDuF_7q2GfuJF&index=3)\n",
    "- [12 Important Model Evaluation Metrics for Machine Learning Everyone Should Know ](https://www.analyticsvidhya.com/blog/2019/08/11-important-model-evaluation-error-metrics/)\n",
    "\n",
    "**Avalie as previsões do seu modelo e veja qual deles se saiu melhor.**"
   ]
  },
  {
   "cell_type": "code",
   "execution_count": null,
   "metadata": {},
   "outputs": [],
   "source": [
    "from sklearn.metrics import mean_absolute_error, mean_squared_error, r2_score\n",
    "\n",
    "r2 = r2_score(Y_test, Y_pred)\n",
    "\n",
    "mae = mean_absolute_error (Y_test, Y_pred)\n",
    "\n",
    "mse = mean_squared_error (Y_test, Y_pred)\n",
    "\n",
    "rmse = np.sqrt(mse)\n",
    "\n",
    "print('R2:', r2)\n",
    "print('MAE:', mae)\n",
    "print('MSE:', mse)\n",
    "print('RMSE:', rmse)"
   ]
  },
  {
   "cell_type": "markdown",
   "metadata": {},
   "source": [
    "### 4 - Otimização do modelo\n",
    "Cada função do scikit-learn na verdade tem vários parâmetros que podem ser ajustados a depender dos seus dados e do seu objetivo e nem sempre os valores padrão são os melhores. O processo de otimização desses hiperparâmetros nada mais é do que iterar sobre as diferentes possibilidades de valores que esses parâmetros podem assumir e ver qual combinação deles gera o melhor resultado.\n",
    "\n",
    "A forma mais comum de realizar essa otimização é através do GridSearch CV, mas a biblioteca Optuna também é uma excelente opção.\n",
    "\n",
    "O capítulo 3 do curso de Supervised Learning oferece um guia de como realizar esse processo - https://app.datacamp.com/learn/courses/supervised-learning-with-scikit-learn\n",
    "\n",
    "**Realize a otimização dos hiperparâmetros**"
   ]
  },
  {
   "cell_type": "markdown",
   "metadata": {},
   "source": [
    "### Hyperparameter tunning"
   ]
  },
  {
   "cell_type": "code",
   "execution_count": null,
   "metadata": {},
   "outputs": [],
   "source": [
    "from sklearn.model_selection import GridSearchCV\n",
    "from sklearn.svm import SVC\n",
    "\n",
    "model = SVC() \n",
    "model.fit(X_train, y_train)\n",
    "\n",
    "param_grid = {'C': [0.1, 1, 10, 100]}  \n",
    "   \n",
    "grid = GridSearchCV(SVC(), param_grid, refit = True, verbose = 3,n_jobs=-1) \n",
    "   \n",
    "# fitting the model for grid search \n",
    "grid.fit(X_train, y_train) \n",
    " \n",
    "# print best parameter after tuning \n",
    "print(grid.best_params_) \n",
    "grid_predictions = grid.predict(X_test) \n",
    "   \n",
    "# print classification report \n",
    "print(classification_report(y_test, grid_predictions)) "
   ]
  },
  {
   "cell_type": "code",
   "execution_count": null,
   "metadata": {},
   "outputs": [],
   "source": []
  },
  {
   "cell_type": "code",
   "execution_count": null,
   "metadata": {},
   "outputs": [],
   "source": []
  }
 ],
 "metadata": {
  "kernelspec": {
   "display_name": "Python 3 (ipykernel)",
   "language": "python",
   "name": "python3"
  },
  "language_info": {
   "codemirror_mode": {
    "name": "ipython",
    "version": 3
   },
   "file_extension": ".py",
   "mimetype": "text/x-python",
   "name": "python",
   "nbconvert_exporter": "python",
   "pygments_lexer": "ipython3",
   "version": "3.10.8"
  },
  "orig_nbformat": 4
 },
 "nbformat": 4,
 "nbformat_minor": 2
}
