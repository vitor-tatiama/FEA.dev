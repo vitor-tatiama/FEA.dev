{
 "cells": [
  {
   "attachments": {},
   "cell_type": "markdown",
   "metadata": {},
   "source": [
    "FEA.dev \n",
    "Mini Challenge - Semana 1"
   ]
  },
  {
   "cell_type": "code",
   "execution_count": null,
   "metadata": {},
   "outputs": [],
   "source": [
    "import random \n",
    "nome = ''\n",
    "grupos = [[],[],[],[]]\n",
    "restrição = 1\n",
    "lista_nomes = [\n",
    "    [\n",
    "'Adriel Faustino de Oliveira',\n",
    "'Amanda Emi Yamasaki',\n",
    "'Ana Werneck de Souza Dias',\n",
    "'Felipe de Souza Lourenço',\n",
    "'Fernanda Mayumi Sakamoto Iizuka',\n",
    "'Guilherme Vinicius Afonso Dias de Freitas',\n",
    "'Kim Ju Hyang',\n",
    "'Leticia Amy Siramidu',\n",
    "'Marcelo Tamay Honda',\n",
    "'Maria Dulce Navarro de Britto Matos',\n",
    "'Mateus Pamio Forcione de Oliveira e Souza',\n",
    "'Milena da Silva Ramos',\n",
    "'Paulo Sergio Almeida de Oliveira',\n",
    "'Theo Borten Radesca Migliano',\n",
    "'Vitor Tatiama Gouveia'],\n",
    "    [\n",
    "'André Menniti Pennini',\n",
    "'Fernanda Mees Antunes', \n",
    "'Gabriel Grub Vidal da Silva',\n",
    "'Henrique Nogueira Pedro Lindoso']]\n",
    "\n",
    "while restrição >= 0:\n",
    "    while len(lista_nomes[restrição]) > 0:\n",
    "        for i in range(len(grupos)):\n",
    "            try:\n",
    "                nome = random.choice(lista_nomes[restrição])\n",
    "                grupos[i].append(nome)\n",
    "                lista_nomes[restrição].remove(nome)\n",
    "            except:\n",
    "                break\n",
    "    restrição -= 1\n",
    "\n",
    "for i in range (len(grupos)):\n",
    "    print(f'''\n",
    "Grupo {i+1}: \n",
    "''')\n",
    "    for item in grupos[i]:\n",
    "        print(f''' {item}''')"
   ]
  }
 ],
 "metadata": {
  "kernelspec": {
   "display_name": "Python 3",
   "language": "python",
   "name": "python3"
  },
  "language_info": {
   "codemirror_mode": {
    "name": "ipython",
    "version": 3
   },
   "file_extension": ".py",
   "mimetype": "text/x-python",
   "name": "python",
   "nbconvert_exporter": "python",
   "pygments_lexer": "ipython3",
   "version": "3.11.3"
  },
  "orig_nbformat": 4
 },
 "nbformat": 4,
 "nbformat_minor": 2
}
